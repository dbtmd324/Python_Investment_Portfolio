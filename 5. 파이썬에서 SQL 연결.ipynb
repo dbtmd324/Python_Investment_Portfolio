{
 "cells": [
  {
   "cell_type": "markdown",
   "metadata": {},
   "source": [
    "# 5. 파이썬에서 SQL 연결\n",
    "\n",
    "파이썬 투자 포트폴리오 만들기"
   ]
  },
  {
   "cell_type": "markdown",
   "metadata": {},
   "source": []
  }
 ],
 "metadata": {
  "language_info": {
   "name": "python"
  },
  "orig_nbformat": 4
 },
 "nbformat": 4,
 "nbformat_minor": 2
}
